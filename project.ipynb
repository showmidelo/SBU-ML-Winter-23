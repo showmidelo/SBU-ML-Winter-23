{
 "cells": [
  {
   "attachments": {},
   "cell_type": "markdown",
   "metadata": {},
   "source": [
    "# Clustering"
   ]
  },
  {
   "attachments": {},
   "cell_type": "markdown",
   "metadata": {},
   "source": [
    "Clustering, in one sentence, is the extraction of natural groupings of similar data objects.\n",
    "\n",
    "![](https://miro.medium.com/max/720/0*Uw1hHssz9RbqqMXo)\n",
    "\n",
    "            Republican and Democrat clusters of senators"
   ]
  },
  {
   "attachments": {},
   "cell_type": "markdown",
   "metadata": {},
   "source": [
    "---"
   ]
  },
  {
   "attachments": {},
   "cell_type": "markdown",
   "metadata": {},
   "source": [
    "# **Hierarchical clustering**"
   ]
  },
  {
   "attachments": {},
   "cell_type": "markdown",
   "metadata": {},
   "source": [
    "**Hierarchical clustering is a popular method for grouping objects. It creates groups so that objects within a group are similar to each other and different from objects in other groups. Clusters are visually represented in a hierarchical tree called a dendrogram.**"
   ]
  },
  {
   "attachments": {},
   "cell_type": "markdown",
   "metadata": {},
   "source": [
    "Hierarchical clustering is an unsupervised learning method for clustering data points. The algorithm builds clusters by measuring the dissimilarities between data. Unsupervised learning means that a model does not have to be trained, and we do not need a \"target\" variable. This method can be used on any data to visualize and interpret the relationship between individual data points."
   ]
  },
  {
   "attachments": {},
   "cell_type": "markdown",
   "metadata": {},
   "source": [
    "## How it works?"
   ]
  },
  {
   "attachments": {},
   "cell_type": "markdown",
   "metadata": {},
   "source": [
    "A Hierarchical clustering method works via grouping data into a tree of clusters. Hierarchical clustering begins by treating every data point as a separate cluster. Then, it repeatedly executes the subsequent steps:\n",
    "\n",
    "    Identify the 2 clusters which can be closest together, and\n",
    "    Merge the 2 maximum comparable clusters. We need to continue these steps until all the clusters are merged together."
   ]
  },
  {
   "attachments": {},
   "cell_type": "markdown",
   "metadata": {},
   "source": [
    "In Hierarchical Clustering, the aim is to produce a hierarchical series of nested clusters. A diagram called Dendrogram (A Dendrogram is a tree-like diagram that statistics the sequences of merges or splits) graphically represents this hierarchy and is an inverted tree that describes the order in which factors are merged (bottom-up view) or clusters are broken up (top-down view)."
   ]
  },
  {
   "attachments": {},
   "cell_type": "markdown",
   "metadata": {},
   "source": [
    "![](https://media.geeksforgeeks.org/wp-content/uploads/20200204181551/Untitled-Diagram71.png)"
   ]
  },
  {
   "attachments": {},
   "cell_type": "markdown",
   "metadata": {},
   "source": [
    "# **HCA**"
   ]
  },
  {
   "attachments": {},
   "cell_type": "markdown",
   "metadata": {},
   "source": [
    "![](https://miro.medium.com/max/257/0*iozEcRXXWXbDMrdG.gif)"
   ]
  },
  {
   "attachments": {},
   "cell_type": "markdown",
   "metadata": {},
   "source": [
    "### Algorithm:"
   ]
  },
  {
   "attachments": {},
   "cell_type": "markdown",
   "metadata": {},
   "source": [
    "    Require: X /*data set*/, k /*number of clusters*/\n",
    "\n",
    "     1: /*initialize*/\n",
    "\n",
    "     2: χ = {}\n",
    "\n",
    "     3: for i = 1 : N do\n",
    "\n",
    "     4:  Ci = {xi}\n",
    "\n",
    "     5:  χ=χ∪Ci\n",
    "\n",
    "     6: end for\n",
    "\n",
    "     7: while |χ| &gt; k do\n",
    "\n",
    "     8:  (i*,j*)=arg mini,j∈[1…|χ|]:i≠jDIST(Ci,Cj)\n",
    "\n",
    "     9:  χ=χ−{Ci*,Cj*}∪(Ci*∪Cj*)\n",
    "\n",
    "    10: end while\n",
    "\n",
    "    11: return χ"
   ]
  },
  {
   "attachments": {},
   "cell_type": "markdown",
   "metadata": {},
   "source": [
    "Agglomerative Process\n",
    "\n",
    "    Choose a distance function for items  d(xi,xj)\n",
    "    Choose a distance function for clusters D(Ci,Cj) - for clusters formed by just one point, D should reduce to d.\n",
    "    Start from N clusters, each containing one item.  Then, at each iteration:\n",
    "        a) using the current matrix of cluster distances, find two closest clusters.\n",
    "        b) update the list of clusters by merging the two closest.\n",
    "        c) update the matrix of cluster distances accordingly\n",
    "    Repeat until all items are joined in one cluster.\n"
   ]
  },
  {
   "attachments": {},
   "cell_type": "markdown",
   "metadata": {},
   "source": [
    "Start by visualizing some data points:"
   ]
  },
  {
   "cell_type": "code",
   "execution_count": 1,
   "metadata": {},
   "outputs": [
    {
     "data": {
      "image/png": "[encoded data removed]",
      "text/plain": [
       "<Figure size 432x288 with 1 Axes>"
      ]
     },
     "metadata": {
      "needs_background": "light"
     },
     "output_type": "display_data"
    }
   ],
   "source": [
    "import numpy as np\n",
    "import matplotlib.pyplot as plt\n",
    "\n",
    "x = [4, 5, 10, 4, 3, 11, 14 , 6, 10, 12]\n",
    "y = [21, 19, 24, 17, 16, 25, 24, 22, 21, 21]\n",
    "\n",
    "plt.scatter(x, y)\n",
    "plt.show() "
   ]
  },
  {
   "attachments": {},
   "cell_type": "markdown",
   "metadata": {},
   "source": [
    "Now we compute the ward linkage using euclidean distance, and visualize it using a dendrogram"
   ]
  },
  {
   "cell_type": "code",
   "execution_count": 2,
   "metadata": {},
   "outputs": [
    {
     "data": {
      "image/png": "[encoded data removed]",
      "text/plain": [
       "<Figure size 432x288 with 1 Axes>"
      ]
     },
     "metadata": {
      "needs_background": "light"
     },
     "output_type": "display_data"
    }
   ],
   "source": [
    "import numpy as np\n",
    "import matplotlib.pyplot as plt\n",
    "from scipy.cluster.hierarchy import dendrogram, linkage\n",
    "\n",
    "x = [4, 5, 10, 4, 3, 11, 14 , 6, 10, 12]\n",
    "y = [21, 19, 24, 17, 16, 25, 24, 22, 21, 21]\n",
    "\n",
    "data = list(zip(x, y))\n",
    "\n",
    "linkage_data = linkage(data, method='ward', metric='euclidean')\n",
    "dendrogram(linkage_data)\n",
    "\n",
    "plt.show() "
   ]
  },
  {
   "attachments": {},
   "cell_type": "markdown",
   "metadata": {},
   "source": [
    "Here, we do the same thing with Python's scikit-learn library. Then, visualize on a 2-dimensional plot:"
   ]
  },
  {
   "cell_type": "code",
   "execution_count": 25,
   "metadata": {},
   "outputs": [
    {
     "data": {
      "image/png": "[encoded data removed]",
      "text/plain": [
       "<Figure size 432x288 with 1 Axes>"
      ]
     },
     "metadata": {
      "needs_background": "light"
     },
     "output_type": "display_data"
    }
   ],
   "source": [
    "import numpy as np\n",
    "import matplotlib.pyplot as plt\n",
    "from sklearn.cluster import AgglomerativeClustering\n",
    "\n",
    "x = [4, 5, 10, 4, 3, 11, 14 , 6, 10, 12]\n",
    "y = [21, 19, 24, 17, 16, 25, 24, 22, 21, 21]\n",
    "\n",
    "data = list(zip(x, y))\n",
    "\n",
    "hierarchical_cluster = AgglomerativeClustering(n_clusters=2, affinity='euclidean', linkage='ward')\n",
    "labels = hierarchical_cluster.fit_predict(data)\n",
    "\n",
    "plt.scatter(x, y, c=labels)\n",
    "plt.show() "
   ]
  },
  {
   "attachments": {},
   "cell_type": "markdown",
   "metadata": {},
   "source": [
    "---"
   ]
  },
  {
   "attachments": {},
   "cell_type": "markdown",
   "metadata": {},
   "source": [
    "# **Bayesian hierarchical clustering**"
   ]
  },
  {
   "attachments": {},
   "cell_type": "markdown",
   "metadata": {},
   "source": [
    "This algorithm has several advantages over traditional distance-based agglomerative clustering algorithms.\n",
    "\n",
    "\n",
    "- (1) It defines a probabilistic model of the data which can be used to compute the predictive distribution of a test point and the probability of it belonging to any of the existing clusters in the tree.\n",
    "\n",
    "\n",
    "-  (2) It uses a model-based criterion to decide on merging clusters rather than an ad-hoc distance metric.\n",
    "\n",
    "\n",
    "-   (3) Bayesian hypothesis testing is used to decide which merges are advantageous and to output the recommended depth of the tree.\n",
    "\n",
    "\n",
    "-    (4) The algorithm can be interpreted as a novel fast bottom-up approximate inference method for a Dirichlet process (i.e. countably infinite) mixture model (DPM)"
   ]
  },
  {
   "attachments": {},
   "cell_type": "markdown",
   "metadata": {},
   "source": [
    "There are several limitations to the traditional hierarchical clustering algorithm. The algorithm provides\n",
    "no guide to choosing the “correct” number of clusters\n",
    "or the level at which to prune the tree. It is often difficult to know which distance metric to choose, especially for structured data such as images or sequences.\n",
    "The traditional algorithm does not define a probabilistic model of the data, so it is hard to ask how “good”\n",
    "a clustering is, to compare to other models, to make\n",
    "predictions and cluster new data into an existing hierarchy."
   ]
  },
  {
   "attachments": {},
   "cell_type": "markdown",
   "metadata": {},
   "source": [
    "# How it works?"
   ]
  },
  {
   "attachments": {},
   "cell_type": "markdown",
   "metadata": {},
   "source": [
    "Bayesian hierarchical clustering algorithm uses\n",
    "marginal likelihoods to decide which clusters to merge\n",
    "and to avoid overfitting. Basically it asks what the\n",
    "probability is that all the data in a potential merge\n",
    "were generated from the same mixture component,\n",
    "and compares this to exponentially many hypotheses\n",
    "at lower levels of the tree"
   ]
  },
  {
   "attachments": {},
   "cell_type": "markdown",
   "metadata": {},
   "source": [
    "### Algorithm:"
   ]
  },
  {
   "attachments": {},
   "cell_type": "markdown",
   "metadata": {},
   "source": [
    "![\"test\"](https://github.com/showmidelo/SBU-ML-Winter-23/blob/main/Bayesian%20Hierarchical%20Clustering.jpg?raw=true)"
   ]
  },
  {
   "attachments": {},
   "cell_type": "markdown",
   "metadata": {},
   "source": [
    "![](https://github.com/caponetto/bayesian-hierarchical-clustering-examples/blob/main/results/bhc_plot.png?raw=true)"
   ]
  },
  {
   "attachments": {},
   "cell_type": "markdown",
   "metadata": {},
   "source": [
    "---"
   ]
  },
  {
   "cell_type": "code",
   "execution_count": 4,
   "metadata": {},
   "outputs": [
    {
     "data": {
      "text/html": [
       "<div>\n",
       "<style scoped>\n",
       "    .dataframe tbody tr th:only-of-type {\n",
       "        vertical-align: middle;\n",
       "    }\n",
       "\n",
       "    .dataframe tbody tr th {\n",
       "        vertical-align: top;\n",
       "    }\n",
       "\n",
       "    .dataframe thead th {\n",
       "        text-align: right;\n",
       "    }\n",
       "</style>\n",
       "<table border=\"1\" class=\"dataframe\">\n",
       "  <thead>\n",
       "    <tr style=\"text-align: right;\">\n",
       "      <th></th>\n",
       "      <th>gender</th>\n",
       "      <th>race/ethnicity</th>\n",
       "      <th>parental level of education</th>\n",
       "      <th>lunch</th>\n",
       "      <th>test preparation course</th>\n",
       "      <th>math score</th>\n",
       "      <th>reading score</th>\n",
       "      <th>writing score</th>\n",
       "    </tr>\n",
       "  </thead>\n",
       "  <tbody>\n",
       "    <tr>\n",
       "      <th>0</th>\n",
       "      <td>female</td>\n",
       "      <td>group B</td>\n",
       "      <td>bachelor's degree</td>\n",
       "      <td>standard</td>\n",
       "      <td>none</td>\n",
       "      <td>72</td>\n",
       "      <td>72</td>\n",
       "      <td>74</td>\n",
       "    </tr>\n",
       "    <tr>\n",
       "      <th>1</th>\n",
       "      <td>female</td>\n",
       "      <td>group C</td>\n",
       "      <td>some college</td>\n",
       "      <td>standard</td>\n",
       "      <td>completed</td>\n",
       "      <td>69</td>\n",
       "      <td>90</td>\n",
       "      <td>88</td>\n",
       "    </tr>\n",
       "    <tr>\n",
       "      <th>2</th>\n",
       "      <td>female</td>\n",
       "      <td>group B</td>\n",
       "      <td>master's degree</td>\n",
       "      <td>standard</td>\n",
       "      <td>none</td>\n",
       "      <td>90</td>\n",
       "      <td>95</td>\n",
       "      <td>93</td>\n",
       "    </tr>\n",
       "    <tr>\n",
       "      <th>3</th>\n",
       "      <td>male</td>\n",
       "      <td>group A</td>\n",
       "      <td>associate's degree</td>\n",
       "      <td>free/reduced</td>\n",
       "      <td>none</td>\n",
       "      <td>47</td>\n",
       "      <td>57</td>\n",
       "      <td>44</td>\n",
       "    </tr>\n",
       "    <tr>\n",
       "      <th>4</th>\n",
       "      <td>male</td>\n",
       "      <td>group C</td>\n",
       "      <td>some college</td>\n",
       "      <td>standard</td>\n",
       "      <td>none</td>\n",
       "      <td>76</td>\n",
       "      <td>78</td>\n",
       "      <td>75</td>\n",
       "    </tr>\n",
       "  </tbody>\n",
       "</table>\n",
       "</div>"
      ],
      "text/plain": [
       "   gender race/ethnicity parental level of education         lunch  \\\n",
       "0  female        group B           bachelor's degree      standard   \n",
       "1  female        group C                some college      standard   \n",
       "2  female        group B             master's degree      standard   \n",
       "3    male        group A          associate's degree  free/reduced   \n",
       "4    male        group C                some college      standard   \n",
       "\n",
       "  test preparation course  math score  reading score  writing score  \n",
       "0                    none          72             72             74  \n",
       "1               completed          69             90             88  \n",
       "2                    none          90             95             93  \n",
       "3                    none          47             57             44  \n",
       "4                    none          76             78             75  "
      ]
     },
     "execution_count": 4,
     "metadata": {},
     "output_type": "execute_result"
    }
   ],
   "source": [
    "import pandas as pd\n",
    "\n",
    "df = pd.read_csv(\"C:\\\\Users\\\\Lion\\\\Desktop\\\\StudentsPerformance.csv\")\n",
    "df.head()"
   ]
  },
  {
   "cell_type": "code",
   "execution_count": 7,
   "metadata": {},
   "outputs": [],
   "source": [
    "scores = df.loc[:,[\"math score\",\"reading score\",\"writing score\"]]\n",
    "scores.rename(index = int, columns = {\"math score\":\"mthscore\",\"reading score\":\"readscr\",\"writing score\":\"writingscr\"},inplace=True)"
   ]
  },
  {
   "cell_type": "code",
   "execution_count": 8,
   "metadata": {},
   "outputs": [
    {
     "data": {
      "text/html": [
       "<div>\n",
       "<style scoped>\n",
       "    .dataframe tbody tr th:only-of-type {\n",
       "        vertical-align: middle;\n",
       "    }\n",
       "\n",
       "    .dataframe tbody tr th {\n",
       "        vertical-align: top;\n",
       "    }\n",
       "\n",
       "    .dataframe thead th {\n",
       "        text-align: right;\n",
       "    }\n",
       "</style>\n",
       "<table border=\"1\" class=\"dataframe\">\n",
       "  <thead>\n",
       "    <tr style=\"text-align: right;\">\n",
       "      <th></th>\n",
       "      <th>mthscore</th>\n",
       "      <th>readscr</th>\n",
       "      <th>writingscr</th>\n",
       "    </tr>\n",
       "  </thead>\n",
       "  <tbody>\n",
       "    <tr>\n",
       "      <th>0</th>\n",
       "      <td>72</td>\n",
       "      <td>72</td>\n",
       "      <td>74</td>\n",
       "    </tr>\n",
       "    <tr>\n",
       "      <th>1</th>\n",
       "      <td>69</td>\n",
       "      <td>90</td>\n",
       "      <td>88</td>\n",
       "    </tr>\n",
       "    <tr>\n",
       "      <th>2</th>\n",
       "      <td>90</td>\n",
       "      <td>95</td>\n",
       "      <td>93</td>\n",
       "    </tr>\n",
       "    <tr>\n",
       "      <th>3</th>\n",
       "      <td>47</td>\n",
       "      <td>57</td>\n",
       "      <td>44</td>\n",
       "    </tr>\n",
       "    <tr>\n",
       "      <th>4</th>\n",
       "      <td>76</td>\n",
       "      <td>78</td>\n",
       "      <td>75</td>\n",
       "    </tr>\n",
       "  </tbody>\n",
       "</table>\n",
       "</div>"
      ],
      "text/plain": [
       "   mthscore  readscr  writingscr\n",
       "0        72       72          74\n",
       "1        69       90          88\n",
       "2        90       95          93\n",
       "3        47       57          44\n",
       "4        76       78          75"
      ]
     },
     "execution_count": 8,
     "metadata": {},
     "output_type": "execute_result"
    }
   ],
   "source": [
    "scores.head()"
   ]
  },
  {
   "cell_type": "code",
   "execution_count": 12,
   "metadata": {},
   "outputs": [
    {
     "data": {
      "image/png": "[encoded data removed]",
      "text/plain": [
       "<Figure size 1152x576 with 1 Axes>"
      ]
     },
     "metadata": {
      "needs_background": "light"
     },
     "output_type": "display_data"
    }
   ],
   "source": [
    "from scipy.cluster.hierarchy import linkage, dendrogram\n",
    "import matplotlib.pyplot as plt\n",
    "\n",
    "plt.figure(1, figsize = (16 ,8))\n",
    "merg = linkage(scores, method = \"ward\")\n",
    "dendrogram(merg,leaf_rotation=90)\n",
    "plt.xlabel(\"Scores\")\n",
    "plt.ylabel(\"Distances\")\n",
    "plt.show()"
   ]
  },
  {
   "cell_type": "code",
   "execution_count": 21,
   "metadata": {},
   "outputs": [
    {
     "data": {
      "image/png": "[encoded data removed]",
      "text/plain": [
       "<Figure size 1152x576 with 1 Axes>"
      ]
     },
     "metadata": {
      "needs_background": "light"
     },
     "output_type": "display_data"
    }
   ],
   "source": [
    "from sklearn.cluster import AgglomerativeClustering\n",
    "hc = AgglomerativeClustering(n_clusters=5,affinity=\"euclidean\",linkage=\"ward\")\n",
    "\n",
    "\n",
    "cluster = hc.fit_predict(scores)\n",
    "plt.figure(1, figsize = (16 ,8))\n",
    "scores[\"examscores\"] = cluster\n",
    "plt.scatter(scores.mthscore[scores.examscores == 0],scores.readscr[scores.examscores == 0],color=\"red\")\n",
    "plt.scatter(scores.mthscore[scores.examscores == 1],scores.readscr[scores.examscores == 1],color=\"green\")\n",
    "plt.scatter(scores.mthscore[scores.examscores == 2],scores.readscr[scores.examscores == 2],color=\"blue\")\n",
    "plt.scatter(scores.mthscore[scores.examscores == 3],scores.readscr[scores.examscores == 3],color=\"black\")\n",
    "plt.scatter(scores.mthscore[scores.examscores == 4],scores.readscr[scores.examscores == 4],color=\"brown\")\n",
    "plt.xlabel(\"math score\")\n",
    "plt.ylabel(\"read score\")\n",
    "plt.show()"
   ]
  },
  {
   "cell_type": "code",
   "execution_count": null,
   "metadata": {},
   "outputs": [],
   "source": []
  },
  {
   "cell_type": "code",
   "execution_count": null,
   "metadata": {},
   "outputs": [],
   "source": []
  },
  {
   "cell_type": "code",
   "execution_count": null,
   "metadata": {},
   "outputs": [],
   "source": []
  },
  {
   "cell_type": "code",
   "execution_count": null,
   "metadata": {},
   "outputs": [],
   "source": []
  },
  {
   "attachments": {},
   "cell_type": "markdown",
   "metadata": {},
   "source": [
    "---"
   ]
  },
  {
   "cell_type": "code",
   "execution_count": 27,
   "metadata": {},
   "outputs": [],
   "source": [
    "import numpy as np \n",
    "import pandas as pd \n",
    "import matplotlib.pyplot as plt \n",
    "import seaborn as sns\n",
    "import warnings\n",
    "warnings.filterwarnings('ignore')\n",
    "from sklearn import preprocessing \n",
    "import scipy.cluster.hierarchy as sch\n",
    "from sklearn.cluster import AgglomerativeClustering "
   ]
  },
  {
   "cell_type": "code",
   "execution_count": 37,
   "metadata": {},
   "outputs": [
    {
     "data": {
      "text/html": [
       "<div>\n",
       "<style scoped>\n",
       "    .dataframe tbody tr th:only-of-type {\n",
       "        vertical-align: middle;\n",
       "    }\n",
       "\n",
       "    .dataframe tbody tr th {\n",
       "        vertical-align: top;\n",
       "    }\n",
       "\n",
       "    .dataframe thead th {\n",
       "        text-align: right;\n",
       "    }\n",
       "</style>\n",
       "<table border=\"1\" class=\"dataframe\">\n",
       "  <thead>\n",
       "    <tr style=\"text-align: right;\">\n",
       "      <th></th>\n",
       "      <th>Time</th>\n",
       "      <th>V1</th>\n",
       "      <th>V2</th>\n",
       "      <th>V3</th>\n",
       "      <th>V4</th>\n",
       "      <th>V5</th>\n",
       "      <th>V6</th>\n",
       "      <th>V7</th>\n",
       "      <th>V8</th>\n",
       "      <th>V9</th>\n",
       "      <th>...</th>\n",
       "      <th>V21</th>\n",
       "      <th>V22</th>\n",
       "      <th>V23</th>\n",
       "      <th>V24</th>\n",
       "      <th>V25</th>\n",
       "      <th>V26</th>\n",
       "      <th>V27</th>\n",
       "      <th>V28</th>\n",
       "      <th>Amount</th>\n",
       "      <th>Class</th>\n",
       "    </tr>\n",
       "  </thead>\n",
       "  <tbody>\n",
       "    <tr>\n",
       "      <th>0</th>\n",
       "      <td>0.0</td>\n",
       "      <td>-1.359807</td>\n",
       "      <td>-0.072781</td>\n",
       "      <td>2.536347</td>\n",
       "      <td>1.378155</td>\n",
       "      <td>-0.338321</td>\n",
       "      <td>0.462388</td>\n",
       "      <td>0.239599</td>\n",
       "      <td>0.098698</td>\n",
       "      <td>0.363787</td>\n",
       "      <td>...</td>\n",
       "      <td>-0.018307</td>\n",
       "      <td>0.277838</td>\n",
       "      <td>-0.110474</td>\n",
       "      <td>0.066928</td>\n",
       "      <td>0.128539</td>\n",
       "      <td>-0.189115</td>\n",
       "      <td>0.133558</td>\n",
       "      <td>-0.021053</td>\n",
       "      <td>149.62</td>\n",
       "      <td>0</td>\n",
       "    </tr>\n",
       "    <tr>\n",
       "      <th>1</th>\n",
       "      <td>0.0</td>\n",
       "      <td>1.191857</td>\n",
       "      <td>0.266151</td>\n",
       "      <td>0.166480</td>\n",
       "      <td>0.448154</td>\n",
       "      <td>0.060018</td>\n",
       "      <td>-0.082361</td>\n",
       "      <td>-0.078803</td>\n",
       "      <td>0.085102</td>\n",
       "      <td>-0.255425</td>\n",
       "      <td>...</td>\n",
       "      <td>-0.225775</td>\n",
       "      <td>-0.638672</td>\n",
       "      <td>0.101288</td>\n",
       "      <td>-0.339846</td>\n",
       "      <td>0.167170</td>\n",
       "      <td>0.125895</td>\n",
       "      <td>-0.008983</td>\n",
       "      <td>0.014724</td>\n",
       "      <td>2.69</td>\n",
       "      <td>0</td>\n",
       "    </tr>\n",
       "    <tr>\n",
       "      <th>2</th>\n",
       "      <td>1.0</td>\n",
       "      <td>-1.358354</td>\n",
       "      <td>-1.340163</td>\n",
       "      <td>1.773209</td>\n",
       "      <td>0.379780</td>\n",
       "      <td>-0.503198</td>\n",
       "      <td>1.800499</td>\n",
       "      <td>0.791461</td>\n",
       "      <td>0.247676</td>\n",
       "      <td>-1.514654</td>\n",
       "      <td>...</td>\n",
       "      <td>0.247998</td>\n",
       "      <td>0.771679</td>\n",
       "      <td>0.909412</td>\n",
       "      <td>-0.689281</td>\n",
       "      <td>-0.327642</td>\n",
       "      <td>-0.139097</td>\n",
       "      <td>-0.055353</td>\n",
       "      <td>-0.059752</td>\n",
       "      <td>378.66</td>\n",
       "      <td>0</td>\n",
       "    </tr>\n",
       "    <tr>\n",
       "      <th>3</th>\n",
       "      <td>1.0</td>\n",
       "      <td>-0.966272</td>\n",
       "      <td>-0.185226</td>\n",
       "      <td>1.792993</td>\n",
       "      <td>-0.863291</td>\n",
       "      <td>-0.010309</td>\n",
       "      <td>1.247203</td>\n",
       "      <td>0.237609</td>\n",
       "      <td>0.377436</td>\n",
       "      <td>-1.387024</td>\n",
       "      <td>...</td>\n",
       "      <td>-0.108300</td>\n",
       "      <td>0.005274</td>\n",
       "      <td>-0.190321</td>\n",
       "      <td>-1.175575</td>\n",
       "      <td>0.647376</td>\n",
       "      <td>-0.221929</td>\n",
       "      <td>0.062723</td>\n",
       "      <td>0.061458</td>\n",
       "      <td>123.50</td>\n",
       "      <td>0</td>\n",
       "    </tr>\n",
       "    <tr>\n",
       "      <th>4</th>\n",
       "      <td>2.0</td>\n",
       "      <td>-1.158233</td>\n",
       "      <td>0.877737</td>\n",
       "      <td>1.548718</td>\n",
       "      <td>0.403034</td>\n",
       "      <td>-0.407193</td>\n",
       "      <td>0.095921</td>\n",
       "      <td>0.592941</td>\n",
       "      <td>-0.270533</td>\n",
       "      <td>0.817739</td>\n",
       "      <td>...</td>\n",
       "      <td>-0.009431</td>\n",
       "      <td>0.798278</td>\n",
       "      <td>-0.137458</td>\n",
       "      <td>0.141267</td>\n",
       "      <td>-0.206010</td>\n",
       "      <td>0.502292</td>\n",
       "      <td>0.219422</td>\n",
       "      <td>0.215153</td>\n",
       "      <td>69.99</td>\n",
       "      <td>0</td>\n",
       "    </tr>\n",
       "  </tbody>\n",
       "</table>\n",
       "<p>5 rows × 31 columns</p>\n",
       "</div>"
      ],
      "text/plain": [
       "   Time        V1        V2        V3        V4        V5        V6        V7  \\\n",
       "0   0.0 -1.359807 -0.072781  2.536347  1.378155 -0.338321  0.462388  0.239599   \n",
       "1   0.0  1.191857  0.266151  0.166480  0.448154  0.060018 -0.082361 -0.078803   \n",
       "2   1.0 -1.358354 -1.340163  1.773209  0.379780 -0.503198  1.800499  0.791461   \n",
       "3   1.0 -0.966272 -0.185226  1.792993 -0.863291 -0.010309  1.247203  0.237609   \n",
       "4   2.0 -1.158233  0.877737  1.548718  0.403034 -0.407193  0.095921  0.592941   \n",
       "\n",
       "         V8        V9  ...       V21       V22       V23       V24       V25  \\\n",
       "0  0.098698  0.363787  ... -0.018307  0.277838 -0.110474  0.066928  0.128539   \n",
       "1  0.085102 -0.255425  ... -0.225775 -0.638672  0.101288 -0.339846  0.167170   \n",
       "2  0.247676 -1.514654  ...  0.247998  0.771679  0.909412 -0.689281 -0.327642   \n",
       "3  0.377436 -1.387024  ... -0.108300  0.005274 -0.190321 -1.175575  0.647376   \n",
       "4 -0.270533  0.817739  ... -0.009431  0.798278 -0.137458  0.141267 -0.206010   \n",
       "\n",
       "        V26       V27       V28  Amount  Class  \n",
       "0 -0.189115  0.133558 -0.021053  149.62      0  \n",
       "1  0.125895 -0.008983  0.014724    2.69      0  \n",
       "2 -0.139097 -0.055353 -0.059752  378.66      0  \n",
       "3 -0.221929  0.062723  0.061458  123.50      0  \n",
       "4  0.502292  0.219422  0.215153   69.99      0  \n",
       "\n",
       "[5 rows x 31 columns]"
      ]
     },
     "execution_count": 37,
     "metadata": {},
     "output_type": "execute_result"
    }
   ],
   "source": [
    "df = pd.read_csv(\"C:\\\\Users\\\\Lion\\\\Desktop\\\\creditcard.csv\")\n",
    "\n",
    "df.head()"
   ]
  },
  {
   "cell_type": "code",
   "execution_count": 41,
   "metadata": {},
   "outputs": [
    {
     "data": {
      "text/html": [
       "<div>\n",
       "<style scoped>\n",
       "    .dataframe tbody tr th:only-of-type {\n",
       "        vertical-align: middle;\n",
       "    }\n",
       "\n",
       "    .dataframe tbody tr th {\n",
       "        vertical-align: top;\n",
       "    }\n",
       "\n",
       "    .dataframe thead th {\n",
       "        text-align: right;\n",
       "    }\n",
       "</style>\n",
       "<table border=\"1\" class=\"dataframe\">\n",
       "  <thead>\n",
       "    <tr style=\"text-align: right;\">\n",
       "      <th></th>\n",
       "      <th>Time</th>\n",
       "      <th>V1</th>\n",
       "      <th>V2</th>\n",
       "      <th>V3</th>\n",
       "      <th>V4</th>\n",
       "      <th>V5</th>\n",
       "      <th>V6</th>\n",
       "      <th>V7</th>\n",
       "      <th>V8</th>\n",
       "      <th>V9</th>\n",
       "      <th>...</th>\n",
       "      <th>V21</th>\n",
       "      <th>V22</th>\n",
       "      <th>V23</th>\n",
       "      <th>V24</th>\n",
       "      <th>V25</th>\n",
       "      <th>V26</th>\n",
       "      <th>V27</th>\n",
       "      <th>V28</th>\n",
       "      <th>Amount</th>\n",
       "      <th>Class</th>\n",
       "    </tr>\n",
       "  </thead>\n",
       "  <tbody>\n",
       "    <tr>\n",
       "      <th>271443</th>\n",
       "      <td>164576.0</td>\n",
       "      <td>2.052954</td>\n",
       "      <td>-0.075890</td>\n",
       "      <td>-1.232502</td>\n",
       "      <td>0.183676</td>\n",
       "      <td>0.193007</td>\n",
       "      <td>-0.604017</td>\n",
       "      <td>0.107638</td>\n",
       "      <td>-0.187457</td>\n",
       "      <td>0.234504</td>\n",
       "      <td>...</td>\n",
       "      <td>-0.262683</td>\n",
       "      <td>-0.631145</td>\n",
       "      <td>0.262427</td>\n",
       "      <td>-0.478206</td>\n",
       "      <td>-0.247167</td>\n",
       "      <td>0.206205</td>\n",
       "      <td>-0.071759</td>\n",
       "      <td>-0.073776</td>\n",
       "      <td>1.98</td>\n",
       "      <td>0</td>\n",
       "    </tr>\n",
       "    <tr>\n",
       "      <th>630</th>\n",
       "      <td>479.0</td>\n",
       "      <td>-2.441348</td>\n",
       "      <td>1.688816</td>\n",
       "      <td>0.639922</td>\n",
       "      <td>-0.776735</td>\n",
       "      <td>-0.305875</td>\n",
       "      <td>0.491954</td>\n",
       "      <td>-1.354830</td>\n",
       "      <td>-3.210164</td>\n",
       "      <td>0.086986</td>\n",
       "      <td>...</td>\n",
       "      <td>3.700293</td>\n",
       "      <td>-1.575040</td>\n",
       "      <td>0.365758</td>\n",
       "      <td>-0.041459</td>\n",
       "      <td>-0.268094</td>\n",
       "      <td>0.343263</td>\n",
       "      <td>0.453533</td>\n",
       "      <td>0.032874</td>\n",
       "      <td>1.00</td>\n",
       "      <td>0</td>\n",
       "    </tr>\n",
       "    <tr>\n",
       "      <th>104719</th>\n",
       "      <td>69203.0</td>\n",
       "      <td>-0.834123</td>\n",
       "      <td>1.181487</td>\n",
       "      <td>1.193983</td>\n",
       "      <td>-0.191324</td>\n",
       "      <td>0.172749</td>\n",
       "      <td>-0.606619</td>\n",
       "      <td>0.778902</td>\n",
       "      <td>-0.118850</td>\n",
       "      <td>-0.206549</td>\n",
       "      <td>...</td>\n",
       "      <td>-0.290871</td>\n",
       "      <td>-0.632414</td>\n",
       "      <td>0.040250</td>\n",
       "      <td>-0.118042</td>\n",
       "      <td>-0.031170</td>\n",
       "      <td>0.098727</td>\n",
       "      <td>0.282448</td>\n",
       "      <td>0.147463</td>\n",
       "      <td>17.99</td>\n",
       "      <td>0</td>\n",
       "    </tr>\n",
       "    <tr>\n",
       "      <th>1994</th>\n",
       "      <td>1534.0</td>\n",
       "      <td>-2.341137</td>\n",
       "      <td>2.256109</td>\n",
       "      <td>0.288054</td>\n",
       "      <td>-0.813956</td>\n",
       "      <td>-0.945991</td>\n",
       "      <td>-1.082510</td>\n",
       "      <td>-0.014469</td>\n",
       "      <td>0.877599</td>\n",
       "      <td>0.673025</td>\n",
       "      <td>...</td>\n",
       "      <td>-0.262281</td>\n",
       "      <td>-0.541946</td>\n",
       "      <td>0.090309</td>\n",
       "      <td>0.378162</td>\n",
       "      <td>0.077240</td>\n",
       "      <td>0.321850</td>\n",
       "      <td>0.574928</td>\n",
       "      <td>0.357878</td>\n",
       "      <td>5.00</td>\n",
       "      <td>0</td>\n",
       "    </tr>\n",
       "    <tr>\n",
       "      <th>241780</th>\n",
       "      <td>151182.0</td>\n",
       "      <td>0.223910</td>\n",
       "      <td>-0.053070</td>\n",
       "      <td>0.935343</td>\n",
       "      <td>-2.346917</td>\n",
       "      <td>-0.309825</td>\n",
       "      <td>0.046115</td>\n",
       "      <td>-0.273281</td>\n",
       "      <td>0.095017</td>\n",
       "      <td>1.863941</td>\n",
       "      <td>...</td>\n",
       "      <td>0.365541</td>\n",
       "      <td>1.406845</td>\n",
       "      <td>-0.079190</td>\n",
       "      <td>-0.984457</td>\n",
       "      <td>-1.295205</td>\n",
       "      <td>-0.243448</td>\n",
       "      <td>0.364579</td>\n",
       "      <td>0.280587</td>\n",
       "      <td>8.49</td>\n",
       "      <td>0</td>\n",
       "    </tr>\n",
       "    <tr>\n",
       "      <th>...</th>\n",
       "      <td>...</td>\n",
       "      <td>...</td>\n",
       "      <td>...</td>\n",
       "      <td>...</td>\n",
       "      <td>...</td>\n",
       "      <td>...</td>\n",
       "      <td>...</td>\n",
       "      <td>...</td>\n",
       "      <td>...</td>\n",
       "      <td>...</td>\n",
       "      <td>...</td>\n",
       "      <td>...</td>\n",
       "      <td>...</td>\n",
       "      <td>...</td>\n",
       "      <td>...</td>\n",
       "      <td>...</td>\n",
       "      <td>...</td>\n",
       "      <td>...</td>\n",
       "      <td>...</td>\n",
       "      <td>...</td>\n",
       "      <td>...</td>\n",
       "    </tr>\n",
       "    <tr>\n",
       "      <th>40222</th>\n",
       "      <td>40143.0</td>\n",
       "      <td>-0.210525</td>\n",
       "      <td>-0.673927</td>\n",
       "      <td>1.564757</td>\n",
       "      <td>-2.460801</td>\n",
       "      <td>-0.760173</td>\n",
       "      <td>-0.212987</td>\n",
       "      <td>-0.652256</td>\n",
       "      <td>0.153764</td>\n",
       "      <td>-2.414326</td>\n",
       "      <td>...</td>\n",
       "      <td>0.182415</td>\n",
       "      <td>0.853186</td>\n",
       "      <td>-0.063424</td>\n",
       "      <td>0.029942</td>\n",
       "      <td>-0.232287</td>\n",
       "      <td>-0.227226</td>\n",
       "      <td>0.091684</td>\n",
       "      <td>0.046286</td>\n",
       "      <td>16.80</td>\n",
       "      <td>0</td>\n",
       "    </tr>\n",
       "    <tr>\n",
       "      <th>121657</th>\n",
       "      <td>76271.0</td>\n",
       "      <td>1.087212</td>\n",
       "      <td>0.170363</td>\n",
       "      <td>0.539844</td>\n",
       "      <td>1.174735</td>\n",
       "      <td>-0.389053</td>\n",
       "      <td>-0.600446</td>\n",
       "      <td>0.097806</td>\n",
       "      <td>-0.085287</td>\n",
       "      <td>0.014741</td>\n",
       "      <td>...</td>\n",
       "      <td>0.020854</td>\n",
       "      <td>0.030824</td>\n",
       "      <td>0.012951</td>\n",
       "      <td>0.385275</td>\n",
       "      <td>0.412442</td>\n",
       "      <td>-0.433529</td>\n",
       "      <td>0.032046</td>\n",
       "      <td>0.032759</td>\n",
       "      <td>45.36</td>\n",
       "      <td>0</td>\n",
       "    </tr>\n",
       "    <tr>\n",
       "      <th>231752</th>\n",
       "      <td>146909.0</td>\n",
       "      <td>2.112602</td>\n",
       "      <td>-0.771042</td>\n",
       "      <td>-1.537738</td>\n",
       "      <td>-1.002102</td>\n",
       "      <td>-0.161411</td>\n",
       "      <td>-0.589640</td>\n",
       "      <td>-0.237808</td>\n",
       "      <td>-0.217088</td>\n",
       "      <td>-0.879742</td>\n",
       "      <td>...</td>\n",
       "      <td>0.138790</td>\n",
       "      <td>0.329183</td>\n",
       "      <td>0.158089</td>\n",
       "      <td>0.739128</td>\n",
       "      <td>0.018175</td>\n",
       "      <td>-0.294969</td>\n",
       "      <td>-0.051543</td>\n",
       "      <td>-0.060981</td>\n",
       "      <td>48.00</td>\n",
       "      <td>0</td>\n",
       "    </tr>\n",
       "    <tr>\n",
       "      <th>194370</th>\n",
       "      <td>130552.0</td>\n",
       "      <td>-0.127254</td>\n",
       "      <td>0.448602</td>\n",
       "      <td>0.217756</td>\n",
       "      <td>-1.215444</td>\n",
       "      <td>0.540932</td>\n",
       "      <td>-0.680344</td>\n",
       "      <td>1.118543</td>\n",
       "      <td>-0.123362</td>\n",
       "      <td>-0.084743</td>\n",
       "      <td>...</td>\n",
       "      <td>-0.258628</td>\n",
       "      <td>-1.022039</td>\n",
       "      <td>0.604555</td>\n",
       "      <td>0.588403</td>\n",
       "      <td>-1.640619</td>\n",
       "      <td>-0.305760</td>\n",
       "      <td>0.152227</td>\n",
       "      <td>0.273015</td>\n",
       "      <td>78.67</td>\n",
       "      <td>0</td>\n",
       "    </tr>\n",
       "    <tr>\n",
       "      <th>251763</th>\n",
       "      <td>155489.0</td>\n",
       "      <td>1.976199</td>\n",
       "      <td>-0.797137</td>\n",
       "      <td>-1.329922</td>\n",
       "      <td>-0.784467</td>\n",
       "      <td>1.446746</td>\n",
       "      <td>4.014915</td>\n",
       "      <td>-1.546318</td>\n",
       "      <td>1.141027</td>\n",
       "      <td>1.222291</td>\n",
       "      <td>...</td>\n",
       "      <td>0.027187</td>\n",
       "      <td>0.138620</td>\n",
       "      <td>0.366140</td>\n",
       "      <td>0.729682</td>\n",
       "      <td>-0.556651</td>\n",
       "      <td>0.502968</td>\n",
       "      <td>0.009003</td>\n",
       "      <td>-0.045639</td>\n",
       "      <td>1.00</td>\n",
       "      <td>0</td>\n",
       "    </tr>\n",
       "  </tbody>\n",
       "</table>\n",
       "<p>284 rows × 31 columns</p>\n",
       "</div>"
      ],
      "text/plain": [
       "            Time        V1        V2        V3        V4        V5        V6  \\\n",
       "271443  164576.0  2.052954 -0.075890 -1.232502  0.183676  0.193007 -0.604017   \n",
       "630        479.0 -2.441348  1.688816  0.639922 -0.776735 -0.305875  0.491954   \n",
       "104719   69203.0 -0.834123  1.181487  1.193983 -0.191324  0.172749 -0.606619   \n",
       "1994      1534.0 -2.341137  2.256109  0.288054 -0.813956 -0.945991 -1.082510   \n",
       "241780  151182.0  0.223910 -0.053070  0.935343 -2.346917 -0.309825  0.046115   \n",
       "...          ...       ...       ...       ...       ...       ...       ...   \n",
       "40222    40143.0 -0.210525 -0.673927  1.564757 -2.460801 -0.760173 -0.212987   \n",
       "121657   76271.0  1.087212  0.170363  0.539844  1.174735 -0.389053 -0.600446   \n",
       "231752  146909.0  2.112602 -0.771042 -1.537738 -1.002102 -0.161411 -0.589640   \n",
       "194370  130552.0 -0.127254  0.448602  0.217756 -1.215444  0.540932 -0.680344   \n",
       "251763  155489.0  1.976199 -0.797137 -1.329922 -0.784467  1.446746  4.014915   \n",
       "\n",
       "              V7        V8        V9  ...       V21       V22       V23  \\\n",
       "271443  0.107638 -0.187457  0.234504  ... -0.262683 -0.631145  0.262427   \n",
       "630    -1.354830 -3.210164  0.086986  ...  3.700293 -1.575040  0.365758   \n",
       "104719  0.778902 -0.118850 -0.206549  ... -0.290871 -0.632414  0.040250   \n",
       "1994   -0.014469  0.877599  0.673025  ... -0.262281 -0.541946  0.090309   \n",
       "241780 -0.273281  0.095017  1.863941  ...  0.365541  1.406845 -0.079190   \n",
       "...          ...       ...       ...  ...       ...       ...       ...   \n",
       "40222  -0.652256  0.153764 -2.414326  ...  0.182415  0.853186 -0.063424   \n",
       "121657  0.097806 -0.085287  0.014741  ...  0.020854  0.030824  0.012951   \n",
       "231752 -0.237808 -0.217088 -0.879742  ...  0.138790  0.329183  0.158089   \n",
       "194370  1.118543 -0.123362 -0.084743  ... -0.258628 -1.022039  0.604555   \n",
       "251763 -1.546318  1.141027  1.222291  ...  0.027187  0.138620  0.366140   \n",
       "\n",
       "             V24       V25       V26       V27       V28  Amount  Class  \n",
       "271443 -0.478206 -0.247167  0.206205 -0.071759 -0.073776    1.98      0  \n",
       "630    -0.041459 -0.268094  0.343263  0.453533  0.032874    1.00      0  \n",
       "104719 -0.118042 -0.031170  0.098727  0.282448  0.147463   17.99      0  \n",
       "1994    0.378162  0.077240  0.321850  0.574928  0.357878    5.00      0  \n",
       "241780 -0.984457 -1.295205 -0.243448  0.364579  0.280587    8.49      0  \n",
       "...          ...       ...       ...       ...       ...     ...    ...  \n",
       "40222   0.029942 -0.232287 -0.227226  0.091684  0.046286   16.80      0  \n",
       "121657  0.385275  0.412442 -0.433529  0.032046  0.032759   45.36      0  \n",
       "231752  0.739128  0.018175 -0.294969 -0.051543 -0.060981   48.00      0  \n",
       "194370  0.588403 -1.640619 -0.305760  0.152227  0.273015   78.67      0  \n",
       "251763  0.729682 -0.556651  0.502968  0.009003 -0.045639    1.00      0  \n",
       "\n",
       "[284 rows x 31 columns]"
      ]
     },
     "execution_count": 41,
     "metadata": {},
     "output_type": "execute_result"
    }
   ],
   "source": [
    "from sklearn.model_selection import train_test_split\n",
    "\n",
    "train, test = train_test_split(df, test_size=0.999)\n",
    "\n",
    "train"
   ]
  },
  {
   "cell_type": "code",
   "execution_count": 42,
   "metadata": {},
   "outputs": [
    {
     "data": {
      "image/png": "[encoded data removed]",
      "text/plain": [
       "<Figure size 1152x576 with 1 Axes>"
      ]
     },
     "metadata": {
      "needs_background": "light"
     },
     "output_type": "display_data"
    }
   ],
   "source": [
    "plt.figure(1, figsize = (16 ,8))\n",
    "dendrogram = sch.dendrogram(sch.linkage(train, method  = \"ward\"))\n",
    "\n",
    "plt.title('Dendrogram')\n",
    "plt.show()"
   ]
  },
  {
   "cell_type": "code",
   "execution_count": 48,
   "metadata": {},
   "outputs": [
    {
     "data": {
      "image/png": "[encoded data removed]",
      "text/plain": [
       "<Figure size 432x288 with 1 Axes>"
      ]
     },
     "metadata": {
      "needs_background": "light"
     },
     "output_type": "display_data"
    }
   ],
   "source": [
    "hierarchical_cluster = AgglomerativeClustering(n_clusters=5, affinity='euclidean', linkage='ward')\n",
    "labels = hierarchical_cluster.fit_predict(train)\n",
    "\n",
    "plt.scatter(train[\"Time\"], train[\"Amount\"], c=labels)\n",
    "plt.show() "
   ]
  },
  {
   "cell_type": "code",
   "execution_count": null,
   "metadata": {},
   "outputs": [],
   "source": []
  }
 ],
 "metadata": {
  "kernelspec": {
   "display_name": "Python 3",
   "language": "python",
   "name": "python3"
  },
  "language_info": {
   "codemirror_mode": {
    "name": "ipython",
    "version": 3
   },
   "file_extension": ".py",
   "mimetype": "text/x-python",
   "name": "python",
   "nbconvert_exporter": "python",
   "pygments_lexer": "ipython3",
   "version": "3.9.7"
  },
  "orig_nbformat": 4,
  "vscode": {
   "interpreter": {
    "hash": "efb6464f8ac8c59a8292ac97a3024b9f0a6995fa7a5651512929edbcf274a27b"
   }
  }
 },
 "nbformat": 4,
 "nbformat_minor": 2
}
